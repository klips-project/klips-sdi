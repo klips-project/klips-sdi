{
 "cells": [
  {
   "cell_type": "code",
   "execution_count": 21,
   "metadata": {},
   "outputs": [
    {
     "name": "stdout",
     "output_type": "stream",
     "text": [
      "<sld:ColorMapEntry color='#000054' quantity='-15.0' label='-15.0'/> <sld:ColorMapEntry color='#050d90' quantity='-11.25' label='-11.25'/> <sld:ColorMapEntry color='#0d25c8' quantity='-7.5' label='-7.5'/> <sld:ColorMapEntry color='#2d50e9' quantity='-3.75' label='-3.75'/> <sld:ColorMapEntry color='#6d8cea' quantity='0.0' label='0.0'/> <sld:ColorMapEntry color='#244c8d' quantity='1.0' label='1.0'/> <sld:ColorMapEntry color='#256ece' quantity='4.0' label='4.0'/> <sld:ColorMapEntry color='#4a97eb' quantity='7.0' label='7.0'/> <sld:ColorMapEntry color='#7fbff8' quantity='10.0' label='10.0'/> <sld:ColorMapEntry color='#bae2ff' quantity='13.0' label='13.0'/> <sld:ColorMapEntry color='#248d65' quantity='14.0' label='14.0'/> <sld:ColorMapEntry color='#25ce9b' quantity='15.75' label='15.75'/> <sld:ColorMapEntry color='#4aebc7' quantity='17.5' label='17.5'/> <sld:ColorMapEntry color='#7ff8e7' quantity='19.25' label='19.25'/> <sld:ColorMapEntry color='#bafffb' quantity='21.0' label='21.0'/> <sld:ColorMapEntry color='#519a00' quantity='22.0' label='22.0'/> <sld:ColorMapEntry color='#7ccc00' quantity='23.0' label='23.0'/> <sld:ColorMapEntry color='#aefe00' quantity='24.0' label='24.0'/> <sld:ColorMapEntry color='#cfff32' quantity='25.0' label='25.0'/> <sld:ColorMapEntry color='#e7ff64' quantity='26.0' label='26.0'/> <sld:ColorMapEntry color='#b4b400' quantity='27.0' label='27.0'/> <sld:ColorMapEntry color='#d9d900' quantity='28.0' label='28.0'/> <sld:ColorMapEntry color='#ff0' quantity='29.0' label='29.0'/> <sld:ColorMapEntry color='#ffff25' quantity='30.0' label='30.0'/> <sld:ColorMapEntry color='#ffff4b' quantity='31.0' label='31.0'/> <sld:ColorMapEntry color='#b48100' quantity='32.0' label='32.0'/> <sld:ColorMapEntry color='#d9ab00' quantity='34.0' label='34.0'/> <sld:ColorMapEntry color='#ffdb00' quantity='36.0' label='36.0'/> <sld:ColorMapEntry color='#fff025' quantity='38.0' label='38.0'/> <sld:ColorMapEntry color='#ffff4b' quantity='40.0' label='40.0'/> <sld:ColorMapEntry color='#b00900' quantity='41.0' label='41.0'/> <sld:ColorMapEntry color='#e41600' quantity='44.0' label='44.0'/> <sld:ColorMapEntry color='#ff3a19' quantity='47.0' label='47.0'/> <sld:ColorMapEntry color='#ff6f4e' quantity='50.0' label='50.0'/> <sld:ColorMapEntry color='#ff9f82' quantity='53.0' label='53.0'/> <sld:ColorMapEntry color='#4c0035' quantity='54.0' label='54.0'/> <sld:ColorMapEntry color='#890664' quantity='57.75' label='57.75'/> <sld:ColorMapEntry color='#c01393' quantity='61.5' label='61.5'/> <sld:ColorMapEntry color='#e036b8' quantity='65.25' label='65.25'/> <sld:ColorMapEntry color='#e278cb' quantity='69.0' label='69.0'/>\n"
     ]
    }
   ],
   "source": []
  },
  {
   "cell_type": "code",
   "execution_count": 22,
   "metadata": {},
   "outputs": [
    {
     "name": "stdout",
     "output_type": "stream",
     "text": [
      "<?xml version='1.0' encoding='UTF-8'?>\n",
      "    <sld:StyledLayerDescriptor xmlns=\"http://www.opengis.net/sld\" xmlns:sld=\"http://www.opengis.net/sld\" xmlns:gml=\"http://www.opengis.net/gml\" xmlns:ogc=\"http://www.opengis.net/ogc\" version=\"1.0.0\">\n",
      "      <sld:NamedLayer>\n",
      "          <sld:Name>Custom Color Ramp</sld:Name>\n",
      "          <sld:UserStyle>\n",
      "            <sld:Name>Custom Color Ramp</sld:Name>\n",
      "            <sld:FeatureTypeStyle>\n",
      "              <sld:Rule>\n",
      "                <sld:RasterSymbolizer>\n",
      "                  <sld:ChannelSelection>\n",
      "                    <sld:GrayChannel>\n",
      "                      <sld:SourceChannelName>1</sld:SourceChannelName>\n",
      "                    </sld:GrayChannel>\n",
      "                  </sld:ChannelSelection>\n",
      "                <sld:ColorMap type='ramp'><sld:ColorMapEntry color='#004da8' quantity='-2' label='Bereich sehr hoher Kalt- und Frischluftproduktion'/>\n",
      "<sld:ColorMapEntry color='#3874ff' quantity='-1' label='Bereich hoher Kalt- und Frischluftproduktion'/>\n",
      "<sld:ColorMapEntry color='#29dbff' quantity='0' label='Bereich der Kalt- und Frischluftentstehung'/>\n",
      "<sld:ColorMapEntry color='#ffffff' quantity='1' label='Bereich ohne nennenswerte Überwärmung (0 bis 1 Grad) '/>\n",
      "<sld:ColorMapEntry color='#a5f57a' quantity='2' label='Bereich beginnender Überwärmung (1 bis 2 Grad)'/>\n",
      "<sld:ColorMapEntry color='#ffff00' quantity='3' label='Bereich geringer Überwärmung (2 bis 3 Grad)'/>\n",
      "<sld:ColorMapEntry color='#ffaa00' quantity='4' label='Bereich mittlerer Überwärmung (3 bis 4 Grad)'/>\n",
      "<sld:ColorMapEntry color='#e60000' quantity='5' label='Bereich hoher Überwärmung (4 bis 5 Grad)'/>\n",
      "<sld:ColorMapEntry color='#a80000' quantity='10' label='Bereich sehr hoher Überwärmung (> 5 Grad)'/></sld:ColorMap>\n",
      "              </sld:RasterSymbolizer>\n",
      "            </sld:Rule>\n",
      "          </sld:FeatureTypeStyle>\n",
      "        </sld:UserStyle>\n",
      "      </sld:NamedLayer>\n",
      "    </sld:StyledLayerDescriptor>\n"
     ]
    }
   ],
   "source": [
    "from colour import Color\n",
    "import numpy as np\n",
    "\n",
    "# Generates sld for list of colors and ranges\n",
    "\n",
    "colors = [\"#004da8\", \"#3874ff\", \"#29dbff\", \"#ffffff\", \"#a5f57a\", \"#ffff00\", \"#ffaa00\", \"#e60000\", \"#a80000\"]\n",
    "\n",
    "quantity = [-2, -1, 0, 1, 2, 3, 4, 5, 10]\n",
    "\n",
    "labels = [\n",
    "  \"Bereich sehr hoher Kalt- und Frischluftproduktion\",\n",
    "\"Bereich hoher Kalt- und Frischluftproduktion\",\n",
    "\"Bereich der Kalt- und Frischluftentstehung\",\n",
    "\"Bereich ohne nennenswerte Überwärmung (0 bis 1 Grad) \",\n",
    "\"Bereich beginnender Überwärmung (1 bis 2 Grad)\",\n",
    "\"Bereich geringer Überwärmung (2 bis 3 Grad)\",\n",
    "\"Bereich mittlerer Überwärmung (3 bis 4 Grad)\",\n",
    "\"Bereich hoher Überwärmung (4 bis 5 Grad)\",\n",
    "\"Bereich sehr hoher Überwärmung (> 5 Grad)\"\n",
    "]\n",
    "\n",
    "def create_map_entry(color, quantity, label):\n",
    "    map_entry = \"<sld:ColorMapEntry color='\" + color + \"' quantity='\" + str(quantity) + \"' label='\" + str(label) + \"'/>\"\n",
    "    return(map_entry)\n",
    "\n",
    "map_entry_list = []\n",
    "for i in range(len(colors)):\n",
    "    entry = create_map_entry(colors[i], quantity[i], labels[i])\n",
    "    map_entry_list.append(entry)\n",
    "    \n",
    "map_entries = '\\n'.join(map_entry_list)\n",
    "\n",
    "sld = \"\"\"<?xml version='1.0' encoding='UTF-8'?>\n",
    "    <sld:StyledLayerDescriptor xmlns=\"http://www.opengis.net/sld\" xmlns:sld=\"http://www.opengis.net/sld\" xmlns:gml=\"http://www.opengis.net/gml\" xmlns:ogc=\"http://www.opengis.net/ogc\" version=\"1.0.0\">\n",
    "      <sld:NamedLayer>\n",
    "          <sld:Name>Custom Color Ramp</sld:Name>\n",
    "          <sld:UserStyle>\n",
    "            <sld:Name>Custom Color Ramp</sld:Name>\n",
    "            <sld:FeatureTypeStyle>\n",
    "              <sld:Rule>\n",
    "                <sld:RasterSymbolizer>\n",
    "                  <sld:ChannelSelection>\n",
    "                    <sld:GrayChannel>\n",
    "                      <sld:SourceChannelName>1</sld:SourceChannelName>\n",
    "                    </sld:GrayChannel>\n",
    "                  </sld:ChannelSelection>\n",
    "                <sld:ColorMap type='ramp'>\"\"\" + map_entries + \"\"\"</sld:ColorMap>\n",
    "              </sld:RasterSymbolizer>\n",
    "            </sld:Rule>\n",
    "          </sld:FeatureTypeStyle>\n",
    "        </sld:UserStyle>\n",
    "      </sld:NamedLayer>\n",
    "    </sld:StyledLayerDescriptor>\"\"\"\n",
    "    \n",
    "print(sld)\n",
    "                \n",
    "\n"
   ]
  }
 ],
 "metadata": {
  "kernelspec": {
   "display_name": ".venv",
   "language": "python",
   "name": "python3"
  },
  "language_info": {
   "codemirror_mode": {
    "name": "ipython",
    "version": 3
   },
   "file_extension": ".py",
   "mimetype": "text/x-python",
   "name": "python",
   "nbconvert_exporter": "python",
   "pygments_lexer": "ipython3",
   "version": "3.10.12"
  }
 },
 "nbformat": 4,
 "nbformat_minor": 2
}
